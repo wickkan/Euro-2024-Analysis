{
 "cells": [
  {
   "cell_type": "markdown",
   "metadata": {},
   "source": [
    "# Euro 2024 Analysis"
   ]
  },
  {
   "cell_type": "code",
   "execution_count": 37,
   "metadata": {},
   "outputs": [
    {
     "name": "stdout",
     "output_type": "stream",
     "text": [
      "Teams in participated_teams_stats: ['Germany' 'France' 'Spain' 'Italy' 'Portugal' 'Netherlands'\n",
      " 'Czech Republic' 'Russia' 'England' 'Croatia' 'Denmark' 'Belgium'\n",
      " 'Sweden' 'Greece' 'Turkey' 'Wales' 'Poland' 'Switzerland' 'Serbia'\n",
      " 'Iceland' 'Hungary' 'Republic of Ireland' 'Romania' 'Scotland' 'Norway'\n",
      " 'Slovakia' 'Bulgaria' 'Albania' 'Northern Ireland' 'Ukraine' 'Slovenia'\n",
      " 'Austria' 'Latvia']\n",
      "Teams in all_matches: ['France' 'Czechoslovakia' 'Soviet Union' 'Spain' 'Denmark' 'Hungary'\n",
      " 'Italy' 'Yugoslavia' 'England' 'Belgium' 'West Germany' 'Netherlands'\n",
      " 'Greece' 'Romania' 'Portugal' 'Republic of Ireland' 'Sweden' 'CIS'\n",
      " 'Scotland' 'Switzerland' 'Bulgaria' 'Germany' 'Czech Republic' 'Russia'\n",
      " 'Turkey' 'Croatia' 'FR Yugoslavia' 'Slovenia' 'Norway' 'Latvia' 'Austria'\n",
      " 'Poland' 'Ukraine' 'Albania' 'Wales' 'Slovakia' 'Northern Ireland'\n",
      " 'Iceland']\n"
     ]
    }
   ],
   "source": [
    "import pandas as pd\n",
    "import itertools\n",
    "\n",
    "# Load datasets\n",
    "euro2020_top_players = pd.read_csv('euro2020-top-players.csv')\n",
    "all_matches = pd.read_csv('all_matches.csv')\n",
    "national_teams_appearance = pd.read_csv('national_teams_appearance.csv')\n",
    "participated_teams_stats = pd.read_csv('participated_teams_stats.csv')\n",
    "top_goal_scorers = pd.read_csv('top_goal_scorers.csv')\n",
    "\n",
    "# Strip whitespace from team names\n",
    "participated_teams_stats['Team'] = participated_teams_stats['Team'].str.strip()\n",
    "all_matches['HomeTeamName'] = all_matches['HomeTeamName'].str.strip()\n",
    "all_matches['AwayTeamName'] = all_matches['AwayTeamName'].str.strip()\n",
    "\n",
    "# Print unique teams to check for mismatches\n",
    "print(\"Teams in participated_teams_stats:\",\n",
    "      participated_teams_stats['Team'].unique())\n",
    "print(\"Teams in all_matches:\", all_matches['HomeTeamName'].unique())"
   ]
  },
  {
   "cell_type": "code",
   "execution_count": 38,
   "metadata": {},
   "outputs": [
    {
     "name": "stdout",
     "output_type": "stream",
     "text": [
      "Mismatched teams: {'Georgia'}\n"
     ]
    }
   ],
   "source": [
    "# Define the groups based on the updated images\n",
    "groups = {\n",
    "    'Group A': ['Germany', 'Switzerland', 'Scotland', 'Hungary'],\n",
    "    'Group B': ['Spain', 'Italy', 'Croatia', 'Albania'],\n",
    "    'Group C': ['England', 'Slovenia', 'Serbia', 'Denmark'],\n",
    "    'Group D': ['Netherlands', 'France', 'Austria', 'Poland'],\n",
    "    'Group E': ['Belgium', 'Ukraine', 'Slovakia', 'Romania'],\n",
    "    'Group F': ['Portugal', 'Czech Republic', 'Georgia', 'Turkey']\n",
    "}\n",
    "\n",
    "# Generate all possible matches for each group (each team plays every other team 3 times)\n",
    "matches = []\n",
    "for group, teams in groups.items():\n",
    "    for home_team, away_team in itertools.permutations(teams, 2):\n",
    "        matches.append([home_team, away_team])\n",
    "        matches.append([home_team, away_team])\n",
    "        matches.append([home_team, away_team])\n",
    "\n",
    "group_stage_matches = pd.DataFrame(\n",
    "    matches, columns=['HomeTeamName', 'AwayTeamName'])\n",
    "\n",
    "# Check for any mismatches\n",
    "mismatched_teams = set(group_stage_matches['HomeTeamName'].unique()).difference(\n",
    "    set(participated_teams_stats['Team'].unique()))\n",
    "print(\"Mismatched teams:\", mismatched_teams)"
   ]
  },
  {
   "cell_type": "code",
   "execution_count": 39,
   "metadata": {},
   "outputs": [
    {
     "name": "stdout",
     "output_type": "stream",
     "text": [
      "  HomeTeamName AwayTeamName  Avg_Goals_For_Home  Avg_Goals_Against_Home  \\\n",
      "0      Germany  Switzerland            1.469388                0.979592   \n",
      "1      Germany  Switzerland            1.469388                0.979592   \n",
      "2      Germany  Switzerland            1.469388                0.979592   \n",
      "3      Germany     Scotland            1.469388                0.979592   \n",
      "4      Germany     Scotland            1.469388                0.979592   \n",
      "\n",
      "   Win_Percentage_Home  Avg_Goals_For_Away  Avg_Goals_Against_Away  \\\n",
      "0            53.061224            0.615385                1.153846   \n",
      "1            53.061224            0.615385                1.153846   \n",
      "2            53.061224            0.615385                1.153846   \n",
      "3            53.061224            0.666667                0.833333   \n",
      "4            53.061224            0.666667                0.833333   \n",
      "\n",
      "   Win_Percentage_Away  \n",
      "0            15.384615  \n",
      "1            15.384615  \n",
      "2            15.384615  \n",
      "3            33.333333  \n",
      "4            33.333333  \n"
     ]
    }
   ],
   "source": [
    "# Calculate overall average performance metrics\n",
    "default_avg_goals_for = participated_teams_stats['Goal_For'].sum(\n",
    ") / participated_teams_stats['Played'].sum()\n",
    "default_avg_goals_against = participated_teams_stats['Goal_Against'].sum(\n",
    ") / participated_teams_stats['Played'].sum()\n",
    "default_win_percentage = (participated_teams_stats['Win'].sum(\n",
    ") / participated_teams_stats['Played'].sum()) * 100\n",
    "\n",
    "# Assign default values for teams with no historical data (e.g., Georgia)\n",
    "group_stage_matches['Avg_Goals_For_Home'] = group_stage_matches.apply(\n",
    "    lambda row: default_avg_goals_for if row['HomeTeamName'] == 'Georgia' else participated_teams_stats.loc[participated_teams_stats['Team'] == row['HomeTeamName'], 'Goal_For'].sum() / participated_teams_stats.loc[participated_teams_stats['Team'] == row['HomeTeamName'], 'Played'].sum(), axis=1)\n",
    "group_stage_matches['Avg_Goals_Against_Home'] = group_stage_matches.apply(\n",
    "    lambda row: default_avg_goals_against if row['HomeTeamName'] == 'Georgia' else participated_teams_stats.loc[participated_teams_stats['Team'] == row['HomeTeamName'], 'Goal_Against'].sum() / participated_teams_stats.loc[participated_teams_stats['Team'] == row['HomeTeamName'], 'Played'].sum(), axis=1)\n",
    "group_stage_matches['Win_Percentage_Home'] = group_stage_matches.apply(\n",
    "    lambda row: default_win_percentage if row['HomeTeamName'] == 'Georgia' else (participated_teams_stats.loc[participated_teams_stats['Team'] == row['HomeTeamName'], 'Win'].sum() / participated_teams_stats.loc[participated_teams_stats['Team'] == row['HomeTeamName'], 'Played'].sum()) * 100, axis=1)\n",
    "\n",
    "group_stage_matches['Avg_Goals_For_Away'] = group_stage_matches.apply(\n",
    "    lambda row: default_avg_goals_for if row['AwayTeamName'] == 'Georgia' else participated_teams_stats.loc[participated_teams_stats['Team'] == row['AwayTeamName'], 'Goal_For'].sum() / participated_teams_stats.loc[participated_teams_stats['Team'] == row['AwayTeamName'], 'Played'].sum(), axis=1)\n",
    "group_stage_matches['Avg_Goals_Against_Away'] = group_stage_matches.apply(\n",
    "    lambda row: default_avg_goals_against if row['AwayTeamName'] == 'Georgia' else participated_teams_stats.loc[participated_teams_stats['Team'] == row['AwayTeamName'], 'Goal_Against'].sum() / participated_teams_stats.loc[participated_teams_stats['Team'] == row['AwayTeamName'], 'Played'].sum(), axis=1)\n",
    "group_stage_matches['Win_Percentage_Away'] = group_stage_matches.apply(\n",
    "    lambda row: default_win_percentage if row['AwayTeamName'] == 'Georgia' else (participated_teams_stats.loc[participated_teams_stats['Team'] == row['AwayTeamName'], 'Win'].sum() / participated_teams_stats.loc[participated_teams_stats['Team'] == row['AwayTeamName'], 'Played'].sum()) * 100, axis=1)\n",
    "\n",
    "print(group_stage_matches.head())"
   ]
  },
  {
   "cell_type": "code",
   "execution_count": 41,
   "metadata": {},
   "outputs": [
    {
     "name": "stdout",
     "output_type": "stream",
     "text": [
      "Length of X: 286\n",
      "Length of y_home_goals: 286\n",
      "Length of y_away_goals: 286\n",
      "Length of y_outcome: 286\n"
     ]
    }
   ],
   "source": [
    "# Ensure the team names are consistent\n",
    "all_matches['HomeTeamName'] = all_matches['HomeTeamName'].str.strip()\n",
    "all_matches['AwayTeamName'] = all_matches['AwayTeamName'].str.strip()\n",
    "\n",
    "# Calculate average goals for and against\n",
    "participated_teams_stats['Avg_Goals_For'] = participated_teams_stats['Goal_For'] / \\\n",
    "    participated_teams_stats['Played']\n",
    "participated_teams_stats['Avg_Goals_Against'] = participated_teams_stats['Goal_Against'] / \\\n",
    "    participated_teams_stats['Played']\n",
    "participated_teams_stats['Win_Percentage'] = participated_teams_stats['Win'] / \\\n",
    "    participated_teams_stats['Played'] * 100\n",
    "\n",
    "# Merge the team stats with match data\n",
    "all_matches = all_matches.merge(participated_teams_stats[['Team', 'Avg_Goals_For', 'Avg_Goals_Against', 'Win_Percentage']],\n",
    "                                left_on='HomeTeamName', right_on='Team', how='left')\n",
    "all_matches = all_matches.merge(participated_teams_stats[['Team', 'Avg_Goals_For', 'Avg_Goals_Against', 'Win_Percentage']],\n",
    "                                left_on='AwayTeamName', right_on='Team', how='left', suffixes=('_Home', '_Away'))\n",
    "\n",
    "# Select features for modeling\n",
    "features = ['Avg_Goals_For_Home', 'Avg_Goals_Against_Home', 'Win_Percentage_Home',\n",
    "            'Avg_Goals_For_Away', 'Avg_Goals_Against_Away', 'Win_Percentage_Away']\n",
    "X = all_matches[features]\n",
    "\n",
    "# Create target variables\n",
    "y_home_goals = all_matches['HomeTeamGoals']\n",
    "y_away_goals = all_matches['AwayTeamGoals']\n",
    "y_outcome = all_matches.apply(lambda row: 'HomeWin' if row['HomeTeamGoals'] > row['AwayTeamGoals'] else (\n",
    "    'AwayWin' if row['HomeTeamGoals'] < row['AwayTeamGoals'] else 'Draw'), axis=1)\n",
    "\n",
    "# Ensure lengths match\n",
    "print(\"Length of X:\", len(X))\n",
    "print(\"Length of y_home_goals:\", len(y_home_goals))\n",
    "print(\"Length of y_away_goals:\", len(y_away_goals))\n",
    "print(\"Length of y_outcome:\", len(y_outcome))"
   ]
  },
  {
   "cell_type": "markdown",
   "metadata": {},
   "source": [
    "#### Split the data"
   ]
  },
  {
   "cell_type": "code",
   "execution_count": 42,
   "metadata": {},
   "outputs": [],
   "source": [
    "from sklearn.model_selection import train_test_split\n",
    "\n",
    "# Split the data\n",
    "X_train, X_test, y_train_home_goals, y_test_home_goals = train_test_split(\n",
    "    X, y_home_goals, test_size=0.2, random_state=42)\n",
    "X_train, X_test, y_train_away_goals, y_test_away_goals = train_test_split(\n",
    "    X, y_away_goals, test_size=0.2, random_state=42)\n",
    "X_train, X_test, y_train_outcome, y_test_outcome = train_test_split(\n",
    "    X, y_outcome, test_size=0.2, random_state=42)"
   ]
  },
  {
   "cell_type": "markdown",
   "metadata": {},
   "source": [
    "#### Model Building"
   ]
  },
  {
   "cell_type": "code",
   "execution_count": null,
   "metadata": {},
   "outputs": [],
   "source": [
    "from sklearn.linear_model import LinearRegression\n",
    "from sklearn.ensemble import RandomForestClassifier\n",
    "from sklearn.metrics import accuracy_score, classification_report\n",
    "\n",
    "# Initialize and train the models\n",
    "home_goals_model = LinearRegression()\n",
    "home_goals_model.fit(X_train, y_train_home_goals)\n",
    "\n",
    "away_goals_model = LinearRegression()\n",
    "away_goals_model.fit(X_train, y_train_away_goals)\n",
    "\n",
    "outcome_model = RandomForestClassifier(n_estimators=100, random_state=42)\n",
    "outcome_model.fit(X_train, y_train_outcome)\n",
    "\n",
    "# Predict and evaluate the models\n",
    "y_pred_home_goals = home_goals_model.predict(X_test)\n",
    "y_pred_away_goals = away_goals_model.predict(X_test)\n",
    "y_pred_outcome = outcome_model.predict(X_test)\n",
    "\n",
    "print(\"Outcome Prediction Accuracy:\",\n",
    "      accuracy_score(y_test_outcome, y_pred_outcome))\n",
    "print(\"Outcome Prediction Report:\\n\",\n",
    "      classification_report(y_test_outcome, y_pred_outcome))"
   ]
  }
 ],
 "metadata": {
  "kernelspec": {
   "display_name": "Python 3",
   "language": "python",
   "name": "python3"
  },
  "language_info": {
   "codemirror_mode": {
    "name": "ipython",
    "version": 3
   },
   "file_extension": ".py",
   "mimetype": "text/x-python",
   "name": "python",
   "nbconvert_exporter": "python",
   "pygments_lexer": "ipython3",
   "version": "3.12.2"
  }
 },
 "nbformat": 4,
 "nbformat_minor": 2
}
