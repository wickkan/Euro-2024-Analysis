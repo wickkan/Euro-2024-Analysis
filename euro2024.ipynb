{
 "cells": [
  {
   "cell_type": "markdown",
   "metadata": {},
   "source": [
    "# Euro 2024 Analysis"
   ]
  },
  {
   "cell_type": "markdown",
   "metadata": {},
   "source": [
    "#### Loading Datasets"
   ]
  },
  {
   "cell_type": "code",
   "execution_count": 134,
   "metadata": {},
   "outputs": [],
   "source": [
    "import itertools\n",
    "import pandas as pd\n",
    "\n",
    "# Load datasets\n",
    "euro2020_top_players = pd.read_csv('euro2020-top-players.csv')\n",
    "all_matches = pd.read_csv('all_matches.csv')\n",
    "national_teams_appearance = pd.read_csv('national_teams_appearance.csv')\n",
    "participated_teams_stats = pd.read_csv('participated_teams_stats.csv')\n",
    "top_goal_scorers = pd.read_csv('top_goal_scorers.csv')"
   ]
  },
  {
   "cell_type": "markdown",
   "metadata": {},
   "source": [
    "#### Ensure Teams Are Consistent"
   ]
  },
  {
   "cell_type": "code",
   "execution_count": 135,
   "metadata": {},
   "outputs": [],
   "source": [
    "participated_teams_stats['Team'] = participated_teams_stats['Team'].str.strip()\n",
    "all_matches['HomeTeamName'] = all_matches['HomeTeamName'].str.strip()\n",
    "all_matches['AwayTeamName'] = all_matches['AwayTeamName'].str.strip()"
   ]
  },
  {
   "cell_type": "markdown",
   "metadata": {},
   "source": [
    "#### Calculate average goals for and against"
   ]
  },
  {
   "cell_type": "code",
   "execution_count": 136,
   "metadata": {},
   "outputs": [],
   "source": [
    "participated_teams_stats['Avg_Goals_For'] = participated_teams_stats['Goal_For'] / \\\n",
    "    participated_teams_stats['Played']\n",
    "participated_teams_stats['Avg_Goals_Against'] = participated_teams_stats['Goal_Against'] / \\\n",
    "    participated_teams_stats['Played']\n",
    "participated_teams_stats['Win_Percentage'] = participated_teams_stats['Win'] / \\\n",
    "    participated_teams_stats['Played'] * 100"
   ]
  },
  {
   "cell_type": "markdown",
   "metadata": {},
   "source": [
    "#### Merge the team stats with match data"
   ]
  },
  {
   "cell_type": "code",
   "execution_count": 137,
   "metadata": {},
   "outputs": [],
   "source": [
    "all_matches = all_matches.merge(participated_teams_stats[['Team', 'Avg_Goals_For', 'Avg_Goals_Against', 'Win_Percentage']],\n",
    "                                left_on='HomeTeamName', right_on='Team', how='left')\n",
    "all_matches = all_matches.merge(participated_teams_stats[['Team', 'Avg_Goals_For', 'Avg_Goals_Against', 'Win_Percentage']],\n",
    "                                left_on='AwayTeamName', right_on='Team', how='left', suffixes=('_Home', '_Away'))"
   ]
  },
  {
   "cell_type": "markdown",
   "metadata": {},
   "source": [
    "#### Modelling"
   ]
  },
  {
   "cell_type": "code",
   "execution_count": 138,
   "metadata": {},
   "outputs": [
    {
     "name": "stdout",
     "output_type": "stream",
     "text": [
      "Missing values in X after filling:\n",
      "Avg_Goals_For_Home        0\n",
      "Avg_Goals_Against_Home    0\n",
      "Win_Percentage_Home       0\n",
      "Avg_Goals_For_Away        0\n",
      "Avg_Goals_Against_Away    0\n",
      "Win_Percentage_Away       0\n",
      "dtype: int64\n"
     ]
    },
    {
     "name": "stderr",
     "output_type": "stream",
     "text": [
      "/var/folders/4g/6t76_jvd3l76gv7sm7qxmbxr0000gq/T/ipykernel_29285/1998872460.py:17: SettingWithCopyWarning: \n",
      "A value is trying to be set on a copy of a slice from a DataFrame\n",
      "\n",
      "See the caveats in the documentation: https://pandas.pydata.org/pandas-docs/stable/user_guide/indexing.html#returning-a-view-versus-a-copy\n",
      "  X.fillna({\n"
     ]
    }
   ],
   "source": [
    "features = ['Avg_Goals_For_Home', 'Avg_Goals_Against_Home', 'Win_Percentage_Home',\n",
    "            'Avg_Goals_For_Away', 'Avg_Goals_Against_Away', 'Win_Percentage_Away']\n",
    "X = all_matches[features]\n",
    "\n",
    "# Create target variables\n",
    "y_home_goals = all_matches['HomeTeamGoals']\n",
    "y_away_goals = all_matches['AwayTeamGoals']\n",
    "y_outcome = all_matches.apply(lambda row: 'HomeWin' if row['HomeTeamGoals'] > row['AwayTeamGoals'] else (\n",
    "    'AwayWin' if row['HomeTeamGoals'] < row['AwayTeamGoals'] else 'Draw'), axis=1)\n",
    "\n",
    "# Handle missing values in X\n",
    "default_avg_goals_for = participated_teams_stats['Avg_Goals_For'].mean()\n",
    "default_avg_goals_against = participated_teams_stats['Avg_Goals_Against'].mean(\n",
    ")\n",
    "default_win_percentage = participated_teams_stats['Win_Percentage'].mean()\n",
    "\n",
    "X.fillna({\n",
    "    'Avg_Goals_For_Home': default_avg_goals_for,\n",
    "    'Avg_Goals_Against_Home': default_avg_goals_against,\n",
    "    'Win_Percentage_Home': default_win_percentage,\n",
    "    'Avg_Goals_For_Away': default_avg_goals_for,\n",
    "    'Avg_Goals_Against_Away': default_avg_goals_against,\n",
    "    'Win_Percentage_Away': default_win_percentage\n",
    "}, inplace=True)\n",
    "\n",
    "# Verify that there are no missing values\n",
    "print(\"Missing values in X after filling:\")\n",
    "print(X.isna().sum())"
   ]
  },
  {
   "cell_type": "markdown",
   "metadata": {},
   "source": [
    "#### Train The Models"
   ]
  },
  {
   "cell_type": "code",
   "execution_count": 139,
   "metadata": {},
   "outputs": [
    {
     "name": "stdout",
     "output_type": "stream",
     "text": [
      "Outcome Prediction Accuracy: 0.3103448275862069\n",
      "Outcome Prediction Report:\n",
      "               precision    recall  f1-score   support\n",
      "\n",
      "     AwayWin       0.25      0.32      0.28        19\n",
      "        Draw       0.14      0.17      0.15        12\n",
      "     HomeWin       0.50      0.37      0.43        27\n",
      "\n",
      "    accuracy                           0.31        58\n",
      "   macro avg       0.30      0.28      0.29        58\n",
      "weighted avg       0.34      0.31      0.32        58\n",
      "\n"
     ]
    }
   ],
   "source": [
    "from sklearn.model_selection import train_test_split\n",
    "from sklearn.linear_model import LinearRegression\n",
    "from sklearn.ensemble import RandomForestClassifier\n",
    "from sklearn.metrics import accuracy_score, classification_report\n",
    "\n",
    "X_train, X_test, y_train_home_goals, y_test_home_goals = train_test_split(\n",
    "    X, y_home_goals, test_size=0.2, random_state=42)\n",
    "X_train, X_test, y_train_away_goals, y_test_away_goals = train_test_split(\n",
    "    X, y_away_goals, test_size=0.2, random_state=42)\n",
    "X_train, X_test, y_train_outcome, y_test_outcome = train_test_split(\n",
    "    X, y_outcome, test_size=0.2, random_state=42)\n",
    "\n",
    "# Initialize and train the models\n",
    "home_goals_model = LinearRegression()\n",
    "home_goals_model.fit(X_train, y_train_home_goals)\n",
    "\n",
    "away_goals_model = LinearRegression()\n",
    "away_goals_model.fit(X_train, y_train_away_goals)\n",
    "\n",
    "outcome_model = RandomForestClassifier(n_estimators=100, random_state=42)\n",
    "outcome_model.fit(X_train, y_train_outcome)\n",
    "\n",
    "# Predict and evaluate the models\n",
    "y_pred_home_goals = home_goals_model.predict(X_test)\n",
    "y_pred_away_goals = away_goals_model.predict(X_test)\n",
    "y_pred_outcome = outcome_model.predict(X_test)\n",
    "\n",
    "print(\"Outcome Prediction Accuracy:\",\n",
    "      accuracy_score(y_test_outcome, y_pred_outcome))\n",
    "print(\"Outcome Prediction Report:\\n\",\n",
    "      classification_report(y_test_outcome, y_pred_outcome))"
   ]
  },
  {
   "cell_type": "markdown",
   "metadata": {},
   "source": [
    "### Predicting Group Stage Matches"
   ]
  },
  {
   "cell_type": "code",
   "execution_count": 140,
   "metadata": {},
   "outputs": [
    {
     "name": "stdout",
     "output_type": "stream",
     "text": [
      "Mismatched teams: {'Georgia'}\n"
     ]
    }
   ],
   "source": [
    "# Define the groups based on the updated images\n",
    "groups = {\n",
    "    'Group A': ['Germany', 'Switzerland', 'Scotland', 'Hungary'],\n",
    "    'Group B': ['Spain', 'Italy', 'Croatia', 'Albania'],\n",
    "    'Group C': ['England', 'Slovenia', 'Serbia', 'Denmark'],\n",
    "    'Group D': ['Netherlands', 'France', 'Austria', 'Poland'],\n",
    "    'Group E': ['Belgium', 'Ukraine', 'Slovakia', 'Romania'],\n",
    "    'Group F': ['Portugal', 'Czech Republic', 'Georgia', 'Turkey']\n",
    "}\n",
    "\n",
    "# Generate all possible matches for each group (each team plays every other team once)\n",
    "matches = []\n",
    "for group, teams in groups.items():\n",
    "    for home_team, away_team in itertools.combinations(teams, 2):\n",
    "        matches.append([home_team, away_team])\n",
    "\n",
    "group_stage_matches = pd.DataFrame(\n",
    "    matches, columns=['HomeTeamName', 'AwayTeamName'])\n",
    "\n",
    "# Check for any mismatches\n",
    "mismatched_teams = set(group_stage_matches['HomeTeamName'].unique()).difference(\n",
    "    set(participated_teams_stats['Team'].unique()))\n",
    "print(\"Mismatched teams:\", mismatched_teams)"
   ]
  },
  {
   "cell_type": "markdown",
   "metadata": {},
   "source": [
    "- Handle missing team data for Georgia"
   ]
  },
  {
   "cell_type": "code",
   "execution_count": 141,
   "metadata": {},
   "outputs": [],
   "source": [
    "# Handle missing team data for Georgia\n",
    "group_stage_matches['Avg_Goals_For_Home'] = group_stage_matches['HomeTeamName'].apply(\n",
    "    lambda x: participated_teams_stats.loc[participated_teams_stats['Team'] == x, 'Avg_Goals_For'].values[0] if x != 'Georgia' else default_avg_goals_for)\n",
    "group_stage_matches['Avg_Goals_Against_Home'] = group_stage_matches['HomeTeamName'].apply(\n",
    "    lambda x: participated_teams_stats.loc[participated_teams_stats['Team'] == x, 'Avg_Goals_Against'].values[0] if x != 'Georgia' else default_avg_goals_against)\n",
    "group_stage_matches['Win_Percentage_Home'] = group_stage_matches['HomeTeamName'].apply(\n",
    "    lambda x: participated_teams_stats.loc[participated_teams_stats['Team'] == x, 'Win_Percentage'].values[0] if x != 'Georgia' else default_win_percentage)\n",
    "group_stage_matches['Avg_Goals_For_Away'] = group_stage_matches['AwayTeamName'].apply(\n",
    "    lambda x: participated_teams_stats.loc[participated_teams_stats['Team'] == x, 'Avg_Goals_For'].values[0] if x != 'Georgia' else default_avg_goals_for)\n",
    "group_stage_matches['Avg_Goals_Against_Away'] = group_stage_matches['AwayTeamName'].apply(\n",
    "    lambda x: participated_teams_stats.loc[participated_teams_stats['Team'] == x, 'Avg_Goals_Against'].values[0] if x != 'Georgia' else default_avg_goals_against)\n",
    "group_stage_matches['Win_Percentage_Away'] = group_stage_matches['AwayTeamName'].apply(\n",
    "    lambda x: participated_teams_stats.loc[participated_teams_stats['Team'] == x, 'Win_Percentage'].values[0] if x != 'Georgia' else default_win_percentage)"
   ]
  },
  {
   "cell_type": "markdown",
   "metadata": {},
   "source": [
    "#### Predict goals for group stage matches"
   ]
  },
  {
   "cell_type": "code",
   "execution_count": 142,
   "metadata": {},
   "outputs": [],
   "source": [
    "# Predict goals for group stage matches\n",
    "group_stage_matches['PredictedHomeGoals'] = home_goals_model.predict(\n",
    "    group_stage_matches[features]).round().astype(int)\n",
    "group_stage_matches['PredictedAwayGoals'] = away_goals_model.predict(\n",
    "    group_stage_matches[features]).round().astype(int)\n",
    "\n",
    "# Ensure no negative goals\n",
    "group_stage_matches['PredictedHomeGoals'] = group_stage_matches['PredictedHomeGoals'].apply(\n",
    "    lambda x: max(x, 0))\n",
    "group_stage_matches['PredictedAwayGoals'] = group_stage_matches['PredictedAwayGoals'].apply(\n",
    "    lambda x: max(x, 0))\n",
    "\n",
    "# Predict match outcomes\n",
    "group_stage_matches['PredictedResult'] = outcome_model.predict(\n",
    "    group_stage_matches[features])\n"
   ]
  },
  {
   "cell_type": "markdown",
   "metadata": {},
   "source": [
    "#### Predicting The Scores of Every Match"
   ]
  },
  {
   "cell_type": "code",
   "execution_count": 145,
   "metadata": {},
   "outputs": [
    {
     "name": "stdout",
     "output_type": "stream",
     "text": [
      "      HomeTeamName    AwayTeamName  PredictedHomeGoals  PredictedAwayGoals  \\\n",
      "0          Germany     Switzerland                   2                   1   \n",
      "1          Germany        Scotland                   1                   1   \n",
      "2          Germany         Hungary                   2                   1   \n",
      "3      Switzerland        Scotland                   0                   1   \n",
      "4      Switzerland         Hungary                   1                   1   \n",
      "5         Scotland         Hungary                   1                   1   \n",
      "6            Spain           Italy                   1                   1   \n",
      "7            Spain         Croatia                   1                   1   \n",
      "8            Spain         Albania                   1                   0   \n",
      "9            Italy         Croatia                   1                   1   \n",
      "10           Italy         Albania                   1                   0   \n",
      "11         Croatia         Albania                   1                   0   \n",
      "12         England        Slovenia                   2                   1   \n",
      "13         England          Serbia                   3                   2   \n",
      "14         England         Denmark                   2                   1   \n",
      "15        Slovenia          Serbia                   3                   2   \n",
      "16        Slovenia         Denmark                   2                   2   \n",
      "17          Serbia         Denmark                   2                   3   \n",
      "18     Netherlands          France                   2                   1   \n",
      "19     Netherlands         Austria                   2                   1   \n",
      "20     Netherlands          Poland                   2                   1   \n",
      "21          France         Austria                   2                   1   \n",
      "22          France          Poland                   2                   1   \n",
      "23         Austria          Poland                   0                   0   \n",
      "24         Belgium         Ukraine                   2                   1   \n",
      "25         Belgium        Slovakia                   2                   1   \n",
      "26         Belgium         Romania                   2                   1   \n",
      "27         Ukraine        Slovakia                   1                   1   \n",
      "28         Ukraine         Romania                   1                   1   \n",
      "29        Slovakia         Romania                   1                   1   \n",
      "30        Portugal  Czech Republic                   2                   1   \n",
      "31        Portugal         Georgia                   2                   1   \n",
      "32        Portugal          Turkey                   2                   1   \n",
      "33  Czech Republic         Georgia                   2                   1   \n",
      "34  Czech Republic          Turkey                   2                   1   \n",
      "35         Georgia          Turkey                   1                   1   \n",
      "\n",
      "   PredictedResult  \n",
      "0          HomeWin  \n",
      "1          HomeWin  \n",
      "2          HomeWin  \n",
      "3             Draw  \n",
      "4          AwayWin  \n",
      "5          HomeWin  \n",
      "6             Draw  \n",
      "7             Draw  \n",
      "8          AwayWin  \n",
      "9             Draw  \n",
      "10            Draw  \n",
      "11         AwayWin  \n",
      "12         HomeWin  \n",
      "13         HomeWin  \n",
      "14         HomeWin  \n",
      "15         AwayWin  \n",
      "16         AwayWin  \n",
      "17         AwayWin  \n",
      "18         HomeWin  \n",
      "19         HomeWin  \n",
      "20         HomeWin  \n",
      "21         HomeWin  \n",
      "22         HomeWin  \n",
      "23            Draw  \n",
      "24         HomeWin  \n",
      "25         HomeWin  \n",
      "26         HomeWin  \n",
      "27         AwayWin  \n",
      "28         HomeWin  \n",
      "29         HomeWin  \n",
      "30         HomeWin  \n",
      "31         HomeWin  \n",
      "32         HomeWin  \n",
      "33         AwayWin  \n",
      "34         AwayWin  \n",
      "35         HomeWin  \n"
     ]
    }
   ],
   "source": [
    "print(group_stage_matches[['HomeTeamName',\n",
    "      'AwayTeamName', 'PredictedHomeGoals', 'PredictedAwayGoals', 'PredictedResult']])"
   ]
  }
 ],
 "metadata": {
  "kernelspec": {
   "display_name": "Python 3",
   "language": "python",
   "name": "python3"
  },
  "language_info": {
   "codemirror_mode": {
    "name": "ipython",
    "version": 3
   },
   "file_extension": ".py",
   "mimetype": "text/x-python",
   "name": "python",
   "nbconvert_exporter": "python",
   "pygments_lexer": "ipython3",
   "version": "3.12.2"
  }
 },
 "nbformat": 4,
 "nbformat_minor": 2
}
