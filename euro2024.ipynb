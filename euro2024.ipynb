{
 "cells": [
  {
   "cell_type": "markdown",
   "metadata": {},
   "source": [
    "# Euro 2024 Analysis"
   ]
  },
  {
   "cell_type": "markdown",
   "metadata": {},
   "source": [
    "#### Loading Datasets"
   ]
  },
  {
   "cell_type": "code",
   "execution_count": 1,
   "metadata": {},
   "outputs": [],
   "source": [
    "import itertools\n",
    "import pandas as pd\n",
    "\n",
    "# Load datasets\n",
    "euro2020_top_players = pd.read_csv('euro2020-top-players.csv')\n",
    "all_matches = pd.read_csv('all_matches.csv')\n",
    "national_teams_appearance = pd.read_csv('national_teams_appearance.csv')\n",
    "participated_teams_stats = pd.read_csv('participated_teams_stats.csv')\n",
    "top_goal_scorers = pd.read_csv('top_goal_scorers.csv')"
   ]
  },
  {
   "cell_type": "markdown",
   "metadata": {},
   "source": [
    "#### Ensure Teams Are Consistent"
   ]
  },
  {
   "cell_type": "code",
   "execution_count": 2,
   "metadata": {},
   "outputs": [],
   "source": [
    "participated_teams_stats['Team'] = participated_teams_stats['Team'].str.strip()\n",
    "all_matches['HomeTeamName'] = all_matches['HomeTeamName'].str.strip()\n",
    "all_matches['AwayTeamName'] = all_matches['AwayTeamName'].str.strip()"
   ]
  },
  {
   "cell_type": "markdown",
   "metadata": {},
   "source": [
    "#### Calculate average goals for and against"
   ]
  },
  {
   "cell_type": "code",
   "execution_count": 3,
   "metadata": {},
   "outputs": [],
   "source": [
    "participated_teams_stats['Avg_Goals_For'] = participated_teams_stats['Goal_For'] / \\\n",
    "    participated_teams_stats['Played']\n",
    "participated_teams_stats['Avg_Goals_Against'] = participated_teams_stats['Goal_Against'] / \\\n",
    "    participated_teams_stats['Played']\n",
    "participated_teams_stats['Win_Percentage'] = participated_teams_stats['Win'] / \\\n",
    "    participated_teams_stats['Played'] * 100"
   ]
  },
  {
   "cell_type": "markdown",
   "metadata": {},
   "source": [
    "#### Merge the team stats with match data"
   ]
  },
  {
   "cell_type": "code",
   "execution_count": 4,
   "metadata": {},
   "outputs": [],
   "source": [
    "all_matches = all_matches.merge(participated_teams_stats[['Team', 'Avg_Goals_For', 'Avg_Goals_Against', 'Win_Percentage']],\n",
    "                                left_on='HomeTeamName', right_on='Team', how='left')\n",
    "all_matches = all_matches.merge(participated_teams_stats[['Team', 'Avg_Goals_For', 'Avg_Goals_Against', 'Win_Percentage']],\n",
    "                                left_on='AwayTeamName', right_on='Team', how='left', suffixes=('_Home', '_Away'))"
   ]
  },
  {
   "cell_type": "markdown",
   "metadata": {},
   "source": [
    "#### Modelling"
   ]
  },
  {
   "cell_type": "code",
   "execution_count": 5,
   "metadata": {},
   "outputs": [
    {
     "name": "stdout",
     "output_type": "stream",
     "text": [
      "Missing values in X after filling:\n",
      "Avg_Goals_For_Home        0\n",
      "Avg_Goals_Against_Home    0\n",
      "Win_Percentage_Home       0\n",
      "Avg_Goals_For_Away        0\n",
      "Avg_Goals_Against_Away    0\n",
      "Win_Percentage_Away       0\n",
      "dtype: int64\n"
     ]
    },
    {
     "name": "stderr",
     "output_type": "stream",
     "text": [
      "/var/folders/4g/6t76_jvd3l76gv7sm7qxmbxr0000gq/T/ipykernel_39155/1998872460.py:17: SettingWithCopyWarning: \n",
      "A value is trying to be set on a copy of a slice from a DataFrame\n",
      "\n",
      "See the caveats in the documentation: https://pandas.pydata.org/pandas-docs/stable/user_guide/indexing.html#returning-a-view-versus-a-copy\n",
      "  X.fillna({\n"
     ]
    }
   ],
   "source": [
    "features = ['Avg_Goals_For_Home', 'Avg_Goals_Against_Home', 'Win_Percentage_Home',\n",
    "            'Avg_Goals_For_Away', 'Avg_Goals_Against_Away', 'Win_Percentage_Away']\n",
    "X = all_matches[features]\n",
    "\n",
    "# Create target variables\n",
    "y_home_goals = all_matches['HomeTeamGoals']\n",
    "y_away_goals = all_matches['AwayTeamGoals']\n",
    "y_outcome = all_matches.apply(lambda row: 'HomeWin' if row['HomeTeamGoals'] > row['AwayTeamGoals'] else (\n",
    "    'AwayWin' if row['HomeTeamGoals'] < row['AwayTeamGoals'] else 'Draw'), axis=1)\n",
    "\n",
    "# Handle missing values in X\n",
    "default_avg_goals_for = participated_teams_stats['Avg_Goals_For'].mean()\n",
    "default_avg_goals_against = participated_teams_stats['Avg_Goals_Against'].mean(\n",
    ")\n",
    "default_win_percentage = participated_teams_stats['Win_Percentage'].mean()\n",
    "\n",
    "X.fillna({\n",
    "    'Avg_Goals_For_Home': default_avg_goals_for,\n",
    "    'Avg_Goals_Against_Home': default_avg_goals_against,\n",
    "    'Win_Percentage_Home': default_win_percentage,\n",
    "    'Avg_Goals_For_Away': default_avg_goals_for,\n",
    "    'Avg_Goals_Against_Away': default_avg_goals_against,\n",
    "    'Win_Percentage_Away': default_win_percentage\n",
    "}, inplace=True)\n",
    "\n",
    "# Verify that there are no missing values\n",
    "print(\"Missing values in X after filling:\")\n",
    "print(X.isna().sum())"
   ]
  },
  {
   "cell_type": "markdown",
   "metadata": {},
   "source": [
    "#### Train The Models"
   ]
  },
  {
   "cell_type": "code",
   "execution_count": 6,
   "metadata": {},
   "outputs": [
    {
     "name": "stdout",
     "output_type": "stream",
     "text": [
      "Outcome Prediction Accuracy: 0.3103448275862069\n",
      "Outcome Prediction Report:\n",
      "               precision    recall  f1-score   support\n",
      "\n",
      "     AwayWin       0.25      0.32      0.28        19\n",
      "        Draw       0.14      0.17      0.15        12\n",
      "     HomeWin       0.50      0.37      0.43        27\n",
      "\n",
      "    accuracy                           0.31        58\n",
      "   macro avg       0.30      0.28      0.29        58\n",
      "weighted avg       0.34      0.31      0.32        58\n",
      "\n"
     ]
    }
   ],
   "source": [
    "from sklearn.model_selection import train_test_split\n",
    "from sklearn.linear_model import LinearRegression\n",
    "from sklearn.ensemble import RandomForestClassifier\n",
    "from sklearn.metrics import accuracy_score, classification_report\n",
    "\n",
    "X_train, X_test, y_train_home_goals, y_test_home_goals = train_test_split(\n",
    "    X, y_home_goals, test_size=0.2, random_state=42)\n",
    "X_train, X_test, y_train_away_goals, y_test_away_goals = train_test_split(\n",
    "    X, y_away_goals, test_size=0.2, random_state=42)\n",
    "X_train, X_test, y_train_outcome, y_test_outcome = train_test_split(\n",
    "    X, y_outcome, test_size=0.2, random_state=42)\n",
    "\n",
    "# Initialize and train the models\n",
    "home_goals_model = LinearRegression()\n",
    "home_goals_model.fit(X_train, y_train_home_goals)\n",
    "\n",
    "away_goals_model = LinearRegression()\n",
    "away_goals_model.fit(X_train, y_train_away_goals)\n",
    "\n",
    "outcome_model = RandomForestClassifier(n_estimators=100, random_state=42)\n",
    "outcome_model.fit(X_train, y_train_outcome)\n",
    "\n",
    "# Predict and evaluate the models\n",
    "y_pred_home_goals = home_goals_model.predict(X_test)\n",
    "y_pred_away_goals = away_goals_model.predict(X_test)\n",
    "y_pred_outcome = outcome_model.predict(X_test)\n",
    "\n",
    "print(\"Outcome Prediction Accuracy:\",\n",
    "      accuracy_score(y_test_outcome, y_pred_outcome))\n",
    "print(\"Outcome Prediction Report:\\n\",\n",
    "      classification_report(y_test_outcome, y_pred_outcome))"
   ]
  },
  {
   "cell_type": "markdown",
   "metadata": {},
   "source": [
    "### Predicting Group Stage Matches"
   ]
  },
  {
   "cell_type": "code",
   "execution_count": 7,
   "metadata": {},
   "outputs": [
    {
     "name": "stdout",
     "output_type": "stream",
     "text": [
      "Mismatched teams: {'Georgia'}\n"
     ]
    }
   ],
   "source": [
    "# Define the groups based on the updated images\n",
    "groups = {\n",
    "    'Group A': ['Germany', 'Switzerland', 'Scotland', 'Hungary'],\n",
    "    'Group B': ['Spain', 'Italy', 'Croatia', 'Albania'],\n",
    "    'Group C': ['England', 'Slovenia', 'Serbia', 'Denmark'],\n",
    "    'Group D': ['Netherlands', 'France', 'Austria', 'Poland'],\n",
    "    'Group E': ['Belgium', 'Ukraine', 'Slovakia', 'Romania'],\n",
    "    'Group F': ['Portugal', 'Czech Republic', 'Georgia', 'Turkey']\n",
    "}\n",
    "\n",
    "# Generate all possible matches for each group (each team plays every other team once)\n",
    "matches = []\n",
    "for group, teams in groups.items():\n",
    "    for home_team, away_team in itertools.combinations(teams, 2):\n",
    "        matches.append([home_team, away_team])\n",
    "\n",
    "group_stage_matches = pd.DataFrame(\n",
    "    matches, columns=['HomeTeamName', 'AwayTeamName'])\n",
    "\n",
    "# Check for any mismatches\n",
    "mismatched_teams = set(group_stage_matches['HomeTeamName'].unique()).difference(\n",
    "    set(participated_teams_stats['Team'].unique()))\n",
    "print(\"Mismatched teams:\", mismatched_teams)"
   ]
  },
  {
   "cell_type": "markdown",
   "metadata": {},
   "source": [
    "- Handle missing team data for Georgia"
   ]
  },
  {
   "cell_type": "code",
   "execution_count": 8,
   "metadata": {},
   "outputs": [],
   "source": [
    "# Handle missing team data for Georgia\n",
    "group_stage_matches['Avg_Goals_For_Home'] = group_stage_matches['HomeTeamName'].apply(\n",
    "    lambda x: participated_teams_stats.loc[participated_teams_stats['Team'] == x, 'Avg_Goals_For'].values[0] if x != 'Georgia' else default_avg_goals_for)\n",
    "group_stage_matches['Avg_Goals_Against_Home'] = group_stage_matches['HomeTeamName'].apply(\n",
    "    lambda x: participated_teams_stats.loc[participated_teams_stats['Team'] == x, 'Avg_Goals_Against'].values[0] if x != 'Georgia' else default_avg_goals_against)\n",
    "group_stage_matches['Win_Percentage_Home'] = group_stage_matches['HomeTeamName'].apply(\n",
    "    lambda x: participated_teams_stats.loc[participated_teams_stats['Team'] == x, 'Win_Percentage'].values[0] if x != 'Georgia' else default_win_percentage)\n",
    "group_stage_matches['Avg_Goals_For_Away'] = group_stage_matches['AwayTeamName'].apply(\n",
    "    lambda x: participated_teams_stats.loc[participated_teams_stats['Team'] == x, 'Avg_Goals_For'].values[0] if x != 'Georgia' else default_avg_goals_for)\n",
    "group_stage_matches['Avg_Goals_Against_Away'] = group_stage_matches['AwayTeamName'].apply(\n",
    "    lambda x: participated_teams_stats.loc[participated_teams_stats['Team'] == x, 'Avg_Goals_Against'].values[0] if x != 'Georgia' else default_avg_goals_against)\n",
    "group_stage_matches['Win_Percentage_Away'] = group_stage_matches['AwayTeamName'].apply(\n",
    "    lambda x: participated_teams_stats.loc[participated_teams_stats['Team'] == x, 'Win_Percentage'].values[0] if x != 'Georgia' else default_win_percentage)"
   ]
  },
  {
   "cell_type": "markdown",
   "metadata": {},
   "source": [
    "#### Predict goals for group stage matches"
   ]
  },
  {
   "cell_type": "code",
   "execution_count": 9,
   "metadata": {},
   "outputs": [],
   "source": [
    "# Predict goals for group stage matches\n",
    "group_stage_matches['PredictedHomeGoals'] = home_goals_model.predict(\n",
    "    group_stage_matches[features]).round().astype(int)\n",
    "group_stage_matches['PredictedAwayGoals'] = away_goals_model.predict(\n",
    "    group_stage_matches[features]).round().astype(int)\n",
    "\n",
    "# Ensure no negative goals\n",
    "group_stage_matches['PredictedHomeGoals'] = group_stage_matches['PredictedHomeGoals'].apply(\n",
    "    lambda x: max(x, 0))\n",
    "group_stage_matches['PredictedAwayGoals'] = group_stage_matches['PredictedAwayGoals'].apply(\n",
    "    lambda x: max(x, 0))\n",
    "\n",
    "# Predict match outcomes\n",
    "group_stage_matches['PredictedResult'] = outcome_model.predict(\n",
    "    group_stage_matches[features])\n"
   ]
  },
  {
   "cell_type": "markdown",
   "metadata": {},
   "source": [
    "#### Predicting The Scores of Every Match"
   ]
  },
  {
   "cell_type": "code",
   "execution_count": 10,
   "metadata": {},
   "outputs": [
    {
     "name": "stdout",
     "output_type": "stream",
     "text": [
      "      HomeTeamName    AwayTeamName  PredictedHomeGoals  PredictedAwayGoals  \\\n",
      "0          Germany     Switzerland                   2                   1   \n",
      "1          Germany        Scotland                   1                   1   \n",
      "2          Germany         Hungary                   2                   1   \n",
      "3      Switzerland        Scotland                   0                   1   \n",
      "4      Switzerland         Hungary                   1                   1   \n",
      "5         Scotland         Hungary                   1                   1   \n",
      "6            Spain           Italy                   1                   1   \n",
      "7            Spain         Croatia                   1                   1   \n",
      "8            Spain         Albania                   1                   0   \n",
      "9            Italy         Croatia                   1                   1   \n",
      "10           Italy         Albania                   1                   0   \n",
      "11         Croatia         Albania                   1                   0   \n",
      "12         England        Slovenia                   2                   1   \n",
      "13         England          Serbia                   3                   2   \n",
      "14         England         Denmark                   2                   1   \n",
      "15        Slovenia          Serbia                   3                   2   \n",
      "16        Slovenia         Denmark                   2                   2   \n",
      "17          Serbia         Denmark                   2                   3   \n",
      "18     Netherlands          France                   2                   1   \n",
      "19     Netherlands         Austria                   2                   1   \n",
      "20     Netherlands          Poland                   2                   1   \n",
      "21          France         Austria                   2                   1   \n",
      "22          France          Poland                   2                   1   \n",
      "23         Austria          Poland                   0                   0   \n",
      "24         Belgium         Ukraine                   2                   1   \n",
      "25         Belgium        Slovakia                   2                   1   \n",
      "26         Belgium         Romania                   2                   1   \n",
      "27         Ukraine        Slovakia                   1                   1   \n",
      "28         Ukraine         Romania                   1                   1   \n",
      "29        Slovakia         Romania                   1                   1   \n",
      "30        Portugal  Czech Republic                   2                   1   \n",
      "31        Portugal         Georgia                   2                   1   \n",
      "32        Portugal          Turkey                   2                   1   \n",
      "33  Czech Republic         Georgia                   2                   1   \n",
      "34  Czech Republic          Turkey                   2                   1   \n",
      "35         Georgia          Turkey                   1                   1   \n",
      "\n",
      "   PredictedResult  \n",
      "0          HomeWin  \n",
      "1          HomeWin  \n",
      "2          HomeWin  \n",
      "3             Draw  \n",
      "4          AwayWin  \n",
      "5          HomeWin  \n",
      "6             Draw  \n",
      "7             Draw  \n",
      "8          AwayWin  \n",
      "9             Draw  \n",
      "10            Draw  \n",
      "11         AwayWin  \n",
      "12         HomeWin  \n",
      "13         HomeWin  \n",
      "14         HomeWin  \n",
      "15         AwayWin  \n",
      "16         AwayWin  \n",
      "17         AwayWin  \n",
      "18         HomeWin  \n",
      "19         HomeWin  \n",
      "20         HomeWin  \n",
      "21         HomeWin  \n",
      "22         HomeWin  \n",
      "23            Draw  \n",
      "24         HomeWin  \n",
      "25         HomeWin  \n",
      "26         HomeWin  \n",
      "27         AwayWin  \n",
      "28         HomeWin  \n",
      "29         HomeWin  \n",
      "30         HomeWin  \n",
      "31         HomeWin  \n",
      "32         HomeWin  \n",
      "33         AwayWin  \n",
      "34         AwayWin  \n",
      "35         HomeWin  \n"
     ]
    }
   ],
   "source": [
    "print(group_stage_matches[['HomeTeamName',\n",
    "      'AwayTeamName', 'PredictedHomeGoals', 'PredictedAwayGoals', 'PredictedResult']])"
   ]
  },
  {
   "cell_type": "markdown",
   "metadata": {},
   "source": [
    "### Improving Current Model"
   ]
  },
  {
   "cell_type": "markdown",
   "metadata": {},
   "source": [
    "#### Feature Engineering - Recent Form Metrics"
   ]
  },
  {
   "cell_type": "code",
   "execution_count": 11,
   "metadata": {},
   "outputs": [
    {
     "name": "stdout",
     "output_type": "stream",
     "text": [
      "       Team  Recent_Avg_Goals_For  Recent_Avg_Goals_Against  \\\n",
      "0   Germany                   1.0                       0.6   \n",
      "1    France                   1.8                       0.8   \n",
      "2     Spain                   1.8                       0.8   \n",
      "3     Italy                   1.2                       0.4   \n",
      "4  Portugal                   1.6                       0.8   \n",
      "\n",
      "   Recent_Win_Percentage  \n",
      "0                   40.0  \n",
      "1                   60.0  \n",
      "2                   60.0  \n",
      "3                   60.0  \n",
      "4                   60.0  \n"
     ]
    }
   ],
   "source": [
    "# Define a function to calculate recent form metrics\n",
    "def calculate_recent_form(team_name, matches, n_matches=5):\n",
    "    recent_matches = matches[(matches['HomeTeamName'] == team_name) | (\n",
    "        matches['AwayTeamName'] == team_name)].tail(n_matches)\n",
    "    total_goals_for = 0\n",
    "    total_goals_against = 0\n",
    "    wins = 0\n",
    "\n",
    "    for _, match in recent_matches.iterrows():\n",
    "        if match['HomeTeamName'] == team_name:\n",
    "            total_goals_for += match['HomeTeamGoals']\n",
    "            total_goals_against += match['AwayTeamGoals']\n",
    "            if match['HomeTeamGoals'] > match['AwayTeamGoals']:\n",
    "                wins += 1\n",
    "        else:\n",
    "            total_goals_for += match['AwayTeamGoals']\n",
    "            total_goals_against += match['HomeTeamGoals']\n",
    "            if match['AwayTeamGoals'] > match['HomeTeamGoals']:\n",
    "                wins += 1\n",
    "\n",
    "    avg_goals_for = total_goals_for / n_matches\n",
    "    avg_goals_against = total_goals_against / n_matches\n",
    "    win_percentage = (wins / n_matches) * 100\n",
    "\n",
    "    return avg_goals_for, avg_goals_against, win_percentage\n",
    "\n",
    "\n",
    "# Apply the function to calculate recent form metrics for all teams\n",
    "recent_form_metrics = []\n",
    "for team in participated_teams_stats['Team'].unique():\n",
    "    avg_goals_for, avg_goals_against, win_percentage = calculate_recent_form(\n",
    "        team, all_matches)\n",
    "    recent_form_metrics.append({\n",
    "        'Team': team,\n",
    "        'Recent_Avg_Goals_For': avg_goals_for,\n",
    "        'Recent_Avg_Goals_Against': avg_goals_against,\n",
    "        'Recent_Win_Percentage': win_percentage\n",
    "    })\n",
    "\n",
    "recent_form_metrics_df = pd.DataFrame(recent_form_metrics)\n",
    "print(recent_form_metrics_df.head())"
   ]
  },
  {
   "cell_type": "code",
   "execution_count": 13,
   "metadata": {},
   "outputs": [
    {
     "ename": "KeyError",
     "evalue": "\"['Team'] not found in axis\"",
     "output_type": "error",
     "traceback": [
      "\u001b[0;31m---------------------------------------------------------------------------\u001b[0m",
      "\u001b[0;31mKeyError\u001b[0m                                  Traceback (most recent call last)",
      "Cell \u001b[0;32mIn[13], line 9\u001b[0m\n\u001b[1;32m      2\u001b[0m all_matches \u001b[38;5;241m=\u001b[39m all_matches\u001b[38;5;241m.\u001b[39mmerge(\n\u001b[1;32m      3\u001b[0m     recent_form_metrics_df, left_on\u001b[38;5;241m=\u001b[39m\u001b[38;5;124m'\u001b[39m\u001b[38;5;124mHomeTeamName\u001b[39m\u001b[38;5;124m'\u001b[39m, right_on\u001b[38;5;241m=\u001b[39m\u001b[38;5;124m'\u001b[39m\u001b[38;5;124mTeam\u001b[39m\u001b[38;5;124m'\u001b[39m, how\u001b[38;5;241m=\u001b[39m\u001b[38;5;124m'\u001b[39m\u001b[38;5;124mleft\u001b[39m\u001b[38;5;124m'\u001b[39m)\n\u001b[1;32m      4\u001b[0m all_matches \u001b[38;5;241m=\u001b[39m all_matches\u001b[38;5;241m.\u001b[39mrename(columns\u001b[38;5;241m=\u001b[39m{\n\u001b[1;32m      5\u001b[0m     \u001b[38;5;124m'\u001b[39m\u001b[38;5;124mRecent_Avg_Goals_For\u001b[39m\u001b[38;5;124m'\u001b[39m: \u001b[38;5;124m'\u001b[39m\u001b[38;5;124mRecent_Avg_Goals_For_Home\u001b[39m\u001b[38;5;124m'\u001b[39m,\n\u001b[1;32m      6\u001b[0m     \u001b[38;5;124m'\u001b[39m\u001b[38;5;124mRecent_Avg_Goals_Against\u001b[39m\u001b[38;5;124m'\u001b[39m: \u001b[38;5;124m'\u001b[39m\u001b[38;5;124mRecent_Avg_Goals_Against_Home\u001b[39m\u001b[38;5;124m'\u001b[39m,\n\u001b[1;32m      7\u001b[0m     \u001b[38;5;124m'\u001b[39m\u001b[38;5;124mRecent_Win_Percentage\u001b[39m\u001b[38;5;124m'\u001b[39m: \u001b[38;5;124m'\u001b[39m\u001b[38;5;124mRecent_Win_Percentage_Home\u001b[39m\u001b[38;5;124m'\u001b[39m\n\u001b[1;32m      8\u001b[0m })\n\u001b[0;32m----> 9\u001b[0m \u001b[43mall_matches\u001b[49m\u001b[38;5;241;43m.\u001b[39;49m\u001b[43mdrop\u001b[49m\u001b[43m(\u001b[49m\u001b[43mcolumns\u001b[49m\u001b[38;5;241;43m=\u001b[39;49m\u001b[43m[\u001b[49m\u001b[38;5;124;43m'\u001b[39;49m\u001b[38;5;124;43mTeam\u001b[39;49m\u001b[38;5;124;43m'\u001b[39;49m\u001b[43m]\u001b[49m\u001b[43m,\u001b[49m\u001b[43m \u001b[49m\u001b[43minplace\u001b[49m\u001b[38;5;241;43m=\u001b[39;49m\u001b[38;5;28;43;01mTrue\u001b[39;49;00m\u001b[43m)\u001b[49m\n\u001b[1;32m     11\u001b[0m all_matches \u001b[38;5;241m=\u001b[39m all_matches\u001b[38;5;241m.\u001b[39mmerge(\n\u001b[1;32m     12\u001b[0m     recent_form_metrics_df, left_on\u001b[38;5;241m=\u001b[39m\u001b[38;5;124m'\u001b[39m\u001b[38;5;124mAwayTeamName\u001b[39m\u001b[38;5;124m'\u001b[39m, right_on\u001b[38;5;241m=\u001b[39m\u001b[38;5;124m'\u001b[39m\u001b[38;5;124mTeam\u001b[39m\u001b[38;5;124m'\u001b[39m, how\u001b[38;5;241m=\u001b[39m\u001b[38;5;124m'\u001b[39m\u001b[38;5;124mleft\u001b[39m\u001b[38;5;124m'\u001b[39m)\n\u001b[1;32m     13\u001b[0m all_matches \u001b[38;5;241m=\u001b[39m all_matches\u001b[38;5;241m.\u001b[39mrename(columns\u001b[38;5;241m=\u001b[39m{\n\u001b[1;32m     14\u001b[0m     \u001b[38;5;124m'\u001b[39m\u001b[38;5;124mRecent_Avg_Goals_For\u001b[39m\u001b[38;5;124m'\u001b[39m: \u001b[38;5;124m'\u001b[39m\u001b[38;5;124mRecent_Avg_Goals_For_Away\u001b[39m\u001b[38;5;124m'\u001b[39m,\n\u001b[1;32m     15\u001b[0m     \u001b[38;5;124m'\u001b[39m\u001b[38;5;124mRecent_Avg_Goals_Against\u001b[39m\u001b[38;5;124m'\u001b[39m: \u001b[38;5;124m'\u001b[39m\u001b[38;5;124mRecent_Avg_Goals_Against_Away\u001b[39m\u001b[38;5;124m'\u001b[39m,\n\u001b[1;32m     16\u001b[0m     \u001b[38;5;124m'\u001b[39m\u001b[38;5;124mRecent_Win_Percentage\u001b[39m\u001b[38;5;124m'\u001b[39m: \u001b[38;5;124m'\u001b[39m\u001b[38;5;124mRecent_Win_Percentage_Away\u001b[39m\u001b[38;5;124m'\u001b[39m\n\u001b[1;32m     17\u001b[0m })\n",
      "File \u001b[0;32m/Library/Frameworks/Python.framework/Versions/3.12/lib/python3.12/site-packages/pandas/core/frame.py:5568\u001b[0m, in \u001b[0;36mDataFrame.drop\u001b[0;34m(self, labels, axis, index, columns, level, inplace, errors)\u001b[0m\n\u001b[1;32m   5420\u001b[0m \u001b[38;5;28;01mdef\u001b[39;00m \u001b[38;5;21mdrop\u001b[39m(\n\u001b[1;32m   5421\u001b[0m     \u001b[38;5;28mself\u001b[39m,\n\u001b[1;32m   5422\u001b[0m     labels: IndexLabel \u001b[38;5;241m|\u001b[39m \u001b[38;5;28;01mNone\u001b[39;00m \u001b[38;5;241m=\u001b[39m \u001b[38;5;28;01mNone\u001b[39;00m,\n\u001b[0;32m   (...)\u001b[0m\n\u001b[1;32m   5429\u001b[0m     errors: IgnoreRaise \u001b[38;5;241m=\u001b[39m \u001b[38;5;124m\"\u001b[39m\u001b[38;5;124mraise\u001b[39m\u001b[38;5;124m\"\u001b[39m,\n\u001b[1;32m   5430\u001b[0m ) \u001b[38;5;241m-\u001b[39m\u001b[38;5;241m>\u001b[39m DataFrame \u001b[38;5;241m|\u001b[39m \u001b[38;5;28;01mNone\u001b[39;00m:\n\u001b[1;32m   5431\u001b[0m \u001b[38;5;250m    \u001b[39m\u001b[38;5;124;03m\"\"\"\u001b[39;00m\n\u001b[1;32m   5432\u001b[0m \u001b[38;5;124;03m    Drop specified labels from rows or columns.\u001b[39;00m\n\u001b[1;32m   5433\u001b[0m \n\u001b[0;32m   (...)\u001b[0m\n\u001b[1;32m   5566\u001b[0m \u001b[38;5;124;03m            weight  1.0     0.8\u001b[39;00m\n\u001b[1;32m   5567\u001b[0m \u001b[38;5;124;03m    \"\"\"\u001b[39;00m\n\u001b[0;32m-> 5568\u001b[0m     \u001b[38;5;28;01mreturn\u001b[39;00m \u001b[38;5;28;43msuper\u001b[39;49m\u001b[43m(\u001b[49m\u001b[43m)\u001b[49m\u001b[38;5;241;43m.\u001b[39;49m\u001b[43mdrop\u001b[49m\u001b[43m(\u001b[49m\n\u001b[1;32m   5569\u001b[0m \u001b[43m        \u001b[49m\u001b[43mlabels\u001b[49m\u001b[38;5;241;43m=\u001b[39;49m\u001b[43mlabels\u001b[49m\u001b[43m,\u001b[49m\n\u001b[1;32m   5570\u001b[0m \u001b[43m        \u001b[49m\u001b[43maxis\u001b[49m\u001b[38;5;241;43m=\u001b[39;49m\u001b[43maxis\u001b[49m\u001b[43m,\u001b[49m\n\u001b[1;32m   5571\u001b[0m \u001b[43m        \u001b[49m\u001b[43mindex\u001b[49m\u001b[38;5;241;43m=\u001b[39;49m\u001b[43mindex\u001b[49m\u001b[43m,\u001b[49m\n\u001b[1;32m   5572\u001b[0m \u001b[43m        \u001b[49m\u001b[43mcolumns\u001b[49m\u001b[38;5;241;43m=\u001b[39;49m\u001b[43mcolumns\u001b[49m\u001b[43m,\u001b[49m\n\u001b[1;32m   5573\u001b[0m \u001b[43m        \u001b[49m\u001b[43mlevel\u001b[49m\u001b[38;5;241;43m=\u001b[39;49m\u001b[43mlevel\u001b[49m\u001b[43m,\u001b[49m\n\u001b[1;32m   5574\u001b[0m \u001b[43m        \u001b[49m\u001b[43minplace\u001b[49m\u001b[38;5;241;43m=\u001b[39;49m\u001b[43minplace\u001b[49m\u001b[43m,\u001b[49m\n\u001b[1;32m   5575\u001b[0m \u001b[43m        \u001b[49m\u001b[43merrors\u001b[49m\u001b[38;5;241;43m=\u001b[39;49m\u001b[43merrors\u001b[49m\u001b[43m,\u001b[49m\n\u001b[1;32m   5576\u001b[0m \u001b[43m    \u001b[49m\u001b[43m)\u001b[49m\n",
      "File \u001b[0;32m/Library/Frameworks/Python.framework/Versions/3.12/lib/python3.12/site-packages/pandas/core/generic.py:4785\u001b[0m, in \u001b[0;36mNDFrame.drop\u001b[0;34m(self, labels, axis, index, columns, level, inplace, errors)\u001b[0m\n\u001b[1;32m   4783\u001b[0m \u001b[38;5;28;01mfor\u001b[39;00m axis, labels \u001b[38;5;129;01min\u001b[39;00m axes\u001b[38;5;241m.\u001b[39mitems():\n\u001b[1;32m   4784\u001b[0m     \u001b[38;5;28;01mif\u001b[39;00m labels \u001b[38;5;129;01mis\u001b[39;00m \u001b[38;5;129;01mnot\u001b[39;00m \u001b[38;5;28;01mNone\u001b[39;00m:\n\u001b[0;32m-> 4785\u001b[0m         obj \u001b[38;5;241m=\u001b[39m \u001b[43mobj\u001b[49m\u001b[38;5;241;43m.\u001b[39;49m\u001b[43m_drop_axis\u001b[49m\u001b[43m(\u001b[49m\u001b[43mlabels\u001b[49m\u001b[43m,\u001b[49m\u001b[43m \u001b[49m\u001b[43maxis\u001b[49m\u001b[43m,\u001b[49m\u001b[43m \u001b[49m\u001b[43mlevel\u001b[49m\u001b[38;5;241;43m=\u001b[39;49m\u001b[43mlevel\u001b[49m\u001b[43m,\u001b[49m\u001b[43m \u001b[49m\u001b[43merrors\u001b[49m\u001b[38;5;241;43m=\u001b[39;49m\u001b[43merrors\u001b[49m\u001b[43m)\u001b[49m\n\u001b[1;32m   4787\u001b[0m \u001b[38;5;28;01mif\u001b[39;00m inplace:\n\u001b[1;32m   4788\u001b[0m     \u001b[38;5;28mself\u001b[39m\u001b[38;5;241m.\u001b[39m_update_inplace(obj)\n",
      "File \u001b[0;32m/Library/Frameworks/Python.framework/Versions/3.12/lib/python3.12/site-packages/pandas/core/generic.py:4827\u001b[0m, in \u001b[0;36mNDFrame._drop_axis\u001b[0;34m(self, labels, axis, level, errors, only_slice)\u001b[0m\n\u001b[1;32m   4825\u001b[0m         new_axis \u001b[38;5;241m=\u001b[39m axis\u001b[38;5;241m.\u001b[39mdrop(labels, level\u001b[38;5;241m=\u001b[39mlevel, errors\u001b[38;5;241m=\u001b[39merrors)\n\u001b[1;32m   4826\u001b[0m     \u001b[38;5;28;01melse\u001b[39;00m:\n\u001b[0;32m-> 4827\u001b[0m         new_axis \u001b[38;5;241m=\u001b[39m \u001b[43maxis\u001b[49m\u001b[38;5;241;43m.\u001b[39;49m\u001b[43mdrop\u001b[49m\u001b[43m(\u001b[49m\u001b[43mlabels\u001b[49m\u001b[43m,\u001b[49m\u001b[43m \u001b[49m\u001b[43merrors\u001b[49m\u001b[38;5;241;43m=\u001b[39;49m\u001b[43merrors\u001b[49m\u001b[43m)\u001b[49m\n\u001b[1;32m   4828\u001b[0m     indexer \u001b[38;5;241m=\u001b[39m axis\u001b[38;5;241m.\u001b[39mget_indexer(new_axis)\n\u001b[1;32m   4830\u001b[0m \u001b[38;5;66;03m# Case for non-unique axis\u001b[39;00m\n\u001b[1;32m   4831\u001b[0m \u001b[38;5;28;01melse\u001b[39;00m:\n",
      "File \u001b[0;32m/Library/Frameworks/Python.framework/Versions/3.12/lib/python3.12/site-packages/pandas/core/indexes/base.py:7070\u001b[0m, in \u001b[0;36mIndex.drop\u001b[0;34m(self, labels, errors)\u001b[0m\n\u001b[1;32m   7068\u001b[0m \u001b[38;5;28;01mif\u001b[39;00m mask\u001b[38;5;241m.\u001b[39many():\n\u001b[1;32m   7069\u001b[0m     \u001b[38;5;28;01mif\u001b[39;00m errors \u001b[38;5;241m!=\u001b[39m \u001b[38;5;124m\"\u001b[39m\u001b[38;5;124mignore\u001b[39m\u001b[38;5;124m\"\u001b[39m:\n\u001b[0;32m-> 7070\u001b[0m         \u001b[38;5;28;01mraise\u001b[39;00m \u001b[38;5;167;01mKeyError\u001b[39;00m(\u001b[38;5;124mf\u001b[39m\u001b[38;5;124m\"\u001b[39m\u001b[38;5;132;01m{\u001b[39;00mlabels[mask]\u001b[38;5;241m.\u001b[39mtolist()\u001b[38;5;132;01m}\u001b[39;00m\u001b[38;5;124m not found in axis\u001b[39m\u001b[38;5;124m\"\u001b[39m)\n\u001b[1;32m   7071\u001b[0m     indexer \u001b[38;5;241m=\u001b[39m indexer[\u001b[38;5;241m~\u001b[39mmask]\n\u001b[1;32m   7072\u001b[0m \u001b[38;5;28;01mreturn\u001b[39;00m \u001b[38;5;28mself\u001b[39m\u001b[38;5;241m.\u001b[39mdelete(indexer)\n",
      "\u001b[0;31mKeyError\u001b[0m: \"['Team'] not found in axis\""
     ]
    }
   ],
   "source": []
  }
 ],
 "metadata": {
  "kernelspec": {
   "display_name": "Python 3",
   "language": "python",
   "name": "python3"
  },
  "language_info": {
   "codemirror_mode": {
    "name": "ipython",
    "version": 3
   },
   "file_extension": ".py",
   "mimetype": "text/x-python",
   "name": "python",
   "nbconvert_exporter": "python",
   "pygments_lexer": "ipython3",
   "version": "3.12.2"
  }
 },
 "nbformat": 4,
 "nbformat_minor": 2
}
